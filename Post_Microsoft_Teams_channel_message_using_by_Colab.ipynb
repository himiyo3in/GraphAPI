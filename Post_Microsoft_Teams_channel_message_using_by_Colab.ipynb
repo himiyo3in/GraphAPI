{
  "nbformat": 4,
  "nbformat_minor": 0,
  "metadata": {
    "colab": {
      "name": "Post Microsoft Teams channel message using by Colab",
      "provenance": [],
      "collapsed_sections": [],
      "authorship_tag": "ABX9TyNI2Ak/BwoYNt+nmE44kG7y",
      "include_colab_link": true
    },
    "kernelspec": {
      "name": "python3",
      "display_name": "Python 3"
    }
  },
  "cells": [
    {
      "cell_type": "markdown",
      "metadata": {
        "id": "view-in-github",
        "colab_type": "text"
      },
      "source": [
        "<a href=\"https://colab.research.google.com/github/himiyo3in/GraphAPI/blob/main/Post_Microsoft_Teams_channel_message_using_by_Colab.ipynb\" target=\"_parent\"><img src=\"https://colab.research.google.com/assets/colab-badge.svg\" alt=\"Open In Colab\"/></a>"
      ]
    },
    {
      "cell_type": "markdown",
      "metadata": {
        "id": "c-wqbsD5u0ZN"
      },
      "source": [
        "# Google Colab で Graph API を動かす"
      ]
    },
    {
      "cell_type": "markdown",
      "metadata": {
        "id": "GnrqVebdqilR"
      },
      "source": [
        "## pymsteams のインストール"
      ]
    },
    {
      "cell_type": "code",
      "metadata": {
        "colab": {
          "base_uri": "https://localhost:8080/",
          "height": 558
        },
        "id": "31vTLSgHrhGj",
        "outputId": "7bdd70c7-d309-4fef-b84a-fa59ba0e3a06"
      },
      "source": [
        "!pip install --target /content/drive/MyDrive/Colab\\ Notebooks/my-modules pymsteams"
      ],
      "execution_count": 11,
      "outputs": [
        {
          "output_type": "stream",
          "text": [
            "Processing /root/.cache/pip/wheels/b1/b8/48/fe46a5675a19c8ff36d632b469e377f1392d6b93d70525c63a/pymsteams-0.1.14-cp36-none-any.whl\n",
            "Collecting requests>=2.20.0\n",
            "  Using cached https://files.pythonhosted.org/packages/29/c1/24814557f1d22c56d50280771a17307e6bf87b70727d975fd6b2ce6b014a/requests-2.25.1-py2.py3-none-any.whl\n",
            "Collecting idna<3,>=2.5\n",
            "  Using cached https://files.pythonhosted.org/packages/a2/38/928ddce2273eaa564f6f50de919327bf3a00f091b5baba8dfa9460f3a8a8/idna-2.10-py2.py3-none-any.whl\n",
            "Collecting urllib3<1.27,>=1.21.1\n",
            "  Using cached https://files.pythonhosted.org/packages/f5/71/45d36a8df68f3ebb098d6861b2c017f3d094538c0fb98fa61d4dc43e69b9/urllib3-1.26.2-py2.py3-none-any.whl\n",
            "Collecting certifi>=2017.4.17\n",
            "  Using cached https://files.pythonhosted.org/packages/5e/a0/5f06e1e1d463903cf0c0eebeb751791119ed7a4b3737fdc9a77f1cdfb51f/certifi-2020.12.5-py2.py3-none-any.whl\n",
            "Collecting chardet<5,>=3.0.2\n",
            "  Using cached https://files.pythonhosted.org/packages/19/c7/fa589626997dd07bd87d9269342ccb74b1720384a4d739a1872bd84fbe68/chardet-4.0.0-py2.py3-none-any.whl\n",
            "\u001b[31mERROR: google-colab 1.0.0 has requirement requests~=2.23.0, but you'll have requests 2.25.1 which is incompatible.\u001b[0m\n",
            "\u001b[31mERROR: datascience 0.10.6 has requirement folium==0.2.1, but you'll have folium 0.8.3 which is incompatible.\u001b[0m\n",
            "Installing collected packages: idna, urllib3, certifi, chardet, requests, pymsteams\n",
            "Successfully installed certifi-2020.12.5 chardet-4.0.0 idna-2.10 pymsteams-0.1.14 requests-2.25.1 urllib3-1.26.2\n",
            "\u001b[33mWARNING: Target directory /content/drive/MyDrive/Colab Notebooks/my-modules/idna already exists. Specify --upgrade to force replacement.\u001b[0m\n",
            "\u001b[33mWARNING: Target directory /content/drive/MyDrive/Colab Notebooks/my-modules/pymsteams-0.1.14.dist-info already exists. Specify --upgrade to force replacement.\u001b[0m\n",
            "\u001b[33mWARNING: Target directory /content/drive/MyDrive/Colab Notebooks/my-modules/pymsteams already exists. Specify --upgrade to force replacement.\u001b[0m\n",
            "\u001b[33mWARNING: Target directory /content/drive/MyDrive/Colab Notebooks/my-modules/requests already exists. Specify --upgrade to force replacement.\u001b[0m\n",
            "\u001b[33mWARNING: Target directory /content/drive/MyDrive/Colab Notebooks/my-modules/requests-2.25.1.dist-info already exists. Specify --upgrade to force replacement.\u001b[0m\n",
            "\u001b[33mWARNING: Target directory /content/drive/MyDrive/Colab Notebooks/my-modules/chardet already exists. Specify --upgrade to force replacement.\u001b[0m\n",
            "\u001b[33mWARNING: Target directory /content/drive/MyDrive/Colab Notebooks/my-modules/idna-2.10.dist-info already exists. Specify --upgrade to force replacement.\u001b[0m\n",
            "\u001b[33mWARNING: Target directory /content/drive/MyDrive/Colab Notebooks/my-modules/chardet-4.0.0.dist-info already exists. Specify --upgrade to force replacement.\u001b[0m\n",
            "\u001b[33mWARNING: Target directory /content/drive/MyDrive/Colab Notebooks/my-modules/certifi already exists. Specify --upgrade to force replacement.\u001b[0m\n",
            "\u001b[33mWARNING: Target directory /content/drive/MyDrive/Colab Notebooks/my-modules/certifi-2020.12.5.dist-info already exists. Specify --upgrade to force replacement.\u001b[0m\n",
            "\u001b[33mWARNING: Target directory /content/drive/MyDrive/Colab Notebooks/my-modules/urllib3-1.26.2.dist-info already exists. Specify --upgrade to force replacement.\u001b[0m\n",
            "\u001b[33mWARNING: Target directory /content/drive/MyDrive/Colab Notebooks/my-modules/urllib3 already exists. Specify --upgrade to force replacement.\u001b[0m\n",
            "\u001b[33mWARNING: Target directory /content/drive/MyDrive/Colab Notebooks/my-modules/bin already exists. Specify --upgrade to force replacement.\u001b[0m\n"
          ],
          "name": "stdout"
        },
        {
          "output_type": "display_data",
          "data": {
            "application/vnd.colab-display-data+json": {
              "pip_warning": {
                "packages": [
                  "certifi",
                  "idna",
                  "pymsteams"
                ]
              }
            }
          },
          "metadata": {
            "tags": []
          }
        }
      ]
    },
    {
      "cell_type": "markdown",
      "metadata": {
        "id": "QBO_IitYqvcH"
      },
      "source": [
        "## 実行コマンド"
      ]
    },
    {
      "cell_type": "markdown",
      "metadata": {
        "id": "2x2F9iAkvJzF"
      },
      "source": [
        "### 要編集箇所\r\n",
        "ここの変数箇所を編集する!"
      ]
    },
    {
      "cell_type": "code",
      "metadata": {
        "id": "25wg_t1JuE6v"
      },
      "source": [
        "url = \"https://microsoft.webhook.office.com/webhookb2/e22b5efe-0cf9-41dd-9280-64ed03fe702f@72f988bf-86f1-41af-91ab-2d7cd011db47/IncomingWebhook/c22c6b37cf2f4537bf2f7be8d3a197fd/5e447fe8-0441-49e2-b3d9-a94322a80043\"\r\n",
        "title = \"Hello UC world\"\r\n",
        "text = \"test for incoming webhook from python\""
      ],
      "execution_count": 2,
      "outputs": []
    },
    {
      "cell_type": "markdown",
      "metadata": {
        "id": "H4O2fCvevXe8"
      },
      "source": [
        "### モジュールのインポート"
      ]
    },
    {
      "cell_type": "code",
      "metadata": {
        "id": "zxOvJ6o5qzgr"
      },
      "source": [
        "import sys\r\n",
        "sys.path.append('/content/drive/My Drive/Colab/my_project/my_modules')\r\n",
        "\r\n",
        "import pymsteams"
      ],
      "execution_count": 1,
      "outputs": []
    },
    {
      "cell_type": "markdown",
      "metadata": {
        "id": "6480qcPovcwx"
      },
      "source": [
        "### 投稿を実行"
      ]
    },
    {
      "cell_type": "code",
      "metadata": {
        "colab": {
          "base_uri": "https://localhost:8080/"
        },
        "id": "biEdVcVys4SZ",
        "outputId": "bd6b2c9f-b999-499d-9b27-863eb105c1c4"
      },
      "source": [
        "myTeamsMessage = pymsteams.connectorcard(url)\r\n",
        "myTeamsMessage.title(title)\r\n",
        "myTeamsMessage.text(text)\r\n",
        "myTeamsMessage.send()"
      ],
      "execution_count": 10,
      "outputs": [
        {
          "output_type": "execute_result",
          "data": {
            "text/plain": [
              "True"
            ]
          },
          "metadata": {
            "tags": []
          },
          "execution_count": 10
        }
      ]
    }
  ]
}